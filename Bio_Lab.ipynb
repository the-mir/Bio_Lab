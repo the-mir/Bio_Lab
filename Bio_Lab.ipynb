{
  "nbformat": 4,
  "nbformat_minor": 0,
  "metadata": {
    "colab": {
      "provenance": [],
      "authorship_tag": "ABX9TyMNDLHbpDanYK8FwoTKNvci"
    },
    "kernelspec": {
      "name": "python3",
      "display_name": "Python 3"
    },
    "language_info": {
      "name": "python"
    }
  },
  "cells": [
    {
      "cell_type": "code",
      "execution_count": 31,
      "metadata": {
        "colab": {
          "base_uri": "https://localhost:8080/"
        },
        "id": "qwk5h-SoI5ZB",
        "outputId": "8a0f404c-45de-4d27-c666-97d4707408ac"
      },
      "outputs": [
        {
          "output_type": "stream",
          "name": "stdout",
          "text": [
            "Drive already mounted at /content.drive; to attempt to forcibly remount, call drive.mount(\"/content.drive\", force_remount=True).\n"
          ]
        }
      ],
      "source": [
        "from google.colab import drive\n",
        "import numpy as np\n",
        "import pandas as pd\n",
        "drive.mount('/content.drive')"
      ]
    },
    {
      "cell_type": "code",
      "source": [
        "with open('/content.drive/MyDrive/Bio/Bio.txt', 'r') as f:\n",
        "    text = f.read()\n",
        "print(text)"
      ],
      "metadata": {
        "colab": {
          "base_uri": "https://localhost:8080/"
        },
        "id": "Xx5EgbQYTSmI",
        "outputId": "6a2a8047-ecd6-4b64-9e60-35de9a5850be"
      },
      "execution_count": 32,
      "outputs": [
        {
          "output_type": "stream",
          "name": "stdout",
          "text": [
            "ATGCTAGGCTAAGCGTTACCGTAGGACCTAG\n"
          ]
        }
      ]
    },
    {
      "cell_type": "code",
      "source": [
        "print(len(text))"
      ],
      "metadata": {
        "colab": {
          "base_uri": "https://localhost:8080/"
        },
        "id": "xcb3WzbOUImZ",
        "outputId": "5f94f885-dc69-4cef-bf1a-53c1c0ad92da"
      },
      "execution_count": 33,
      "outputs": [
        {
          "output_type": "stream",
          "name": "stdout",
          "text": [
            "31\n"
          ]
        }
      ]
    },
    {
      "cell_type": "code",
      "source": [
        "!pip install biopython"
      ],
      "metadata": {
        "colab": {
          "base_uri": "https://localhost:8080/"
        },
        "id": "K-_mZ3L-ZJzQ",
        "outputId": "b76a22b6-cc57-4180-e70d-ca6628e248d0"
      },
      "execution_count": 34,
      "outputs": [
        {
          "output_type": "stream",
          "name": "stdout",
          "text": [
            "Requirement already satisfied: biopython in /usr/local/lib/python3.10/dist-packages (1.81)\n",
            "Requirement already satisfied: numpy in /usr/local/lib/python3.10/dist-packages (from biopython) (1.23.5)\n"
          ]
        }
      ]
    },
    {
      "cell_type": "code",
      "source": [
        "dna_seq = Seq(text)\n",
        "\n",
        "rna_seq = dna_seq.transcribe()\n",
        "\n",
        "print(\"RNA Sequence:\", rna_seq)"
      ],
      "metadata": {
        "colab": {
          "base_uri": "https://localhost:8080/"
        },
        "id": "4AwAmlTsUnha",
        "outputId": "df95ee62-efdd-4ff8-944c-c8997db7c778"
      },
      "execution_count": 35,
      "outputs": [
        {
          "output_type": "stream",
          "name": "stdout",
          "text": [
            "RNA Sequence: AUGCUAGGCUAAGCGUUACCGUAGGACCUAG\n"
          ]
        }
      ]
    },
    {
      "cell_type": "code",
      "source": [
        "dna_seq = Seq(text)\n",
        "rc = dna_seq.reverse_complement()\n",
        "print(\"reverse complement Sequence:\", rc)\n"
      ],
      "metadata": {
        "colab": {
          "base_uri": "https://localhost:8080/"
        },
        "id": "Br6HKnYlUuCN",
        "outputId": "377af4b1-f289-4c9d-a28e-bf6892045af7"
      },
      "execution_count": 36,
      "outputs": [
        {
          "output_type": "stream",
          "name": "stdout",
          "text": [
            "reverse complement Sequence: CTAGGTCCTACGGTAACGCTTAGCCTAGCAT\n"
          ]
        }
      ]
    },
    {
      "cell_type": "code",
      "source": [
        "print(\"A in sequence\",text.count(\"A\"))\n",
        "print(\"T in sequence\",text.count(\"T\"))\n",
        "print(\"C in sequence\",text.count(\"C\"))\n",
        "print(\"G in sequence\",text.count(\"G\"))"
      ],
      "metadata": {
        "colab": {
          "base_uri": "https://localhost:8080/"
        },
        "id": "5TdM2usaVCQn",
        "outputId": "a89bd67c-4d28-4b8d-f7af-39bd01ccd61a"
      },
      "execution_count": 37,
      "outputs": [
        {
          "output_type": "stream",
          "name": "stdout",
          "text": [
            "A in sequence 8\n",
            "T in sequence 7\n",
            "C in sequence 7\n",
            "G in sequence 9\n"
          ]
        }
      ]
    },
    {
      "cell_type": "code",
      "source": [
        "a=text.count(\"C\")\n",
        "b=text.count(\"G\")\n",
        "c=len(text)\n",
        "d=((a+b)/c)*100\n",
        "print(\"GC in sequence\",d)"
      ],
      "metadata": {
        "colab": {
          "base_uri": "https://localhost:8080/"
        },
        "id": "nDBTyfLHVVi2",
        "outputId": "9eeca3e7-8064-4ad9-ccee-02ad8d82b09d"
      },
      "execution_count": 38,
      "outputs": [
        {
          "output_type": "stream",
          "name": "stdout",
          "text": [
            "GC in sequence 51.61290322580645\n"
          ]
        }
      ]
    },
    {
      "cell_type": "code",
      "source": [
        "dna_seq = Seq(text)\n",
        "rna_seq = dna_seq.transcribe()\n",
        "protein = rna_seq.translate()\n",
        "print(\"RNA Sequence:\", rna_seq)\n",
        "print(\"Protein Sequence:\", protein)"
      ],
      "metadata": {
        "colab": {
          "base_uri": "https://localhost:8080/"
        },
        "id": "wAt8HU12VZk0",
        "outputId": "71d31ba2-c849-497c-c98e-14574f9890d2"
      },
      "execution_count": 40,
      "outputs": [
        {
          "output_type": "stream",
          "name": "stdout",
          "text": [
            "RNA Sequence: AUGCUAGGCUAAGCGUUACCGUAGGACCUAG\n",
            "Protein Sequence: MLG*ALP*DL\n"
          ]
        }
      ]
    },
    {
      "cell_type": "code",
      "source": [
        "def find_orfs(dna_sequence):\n",
        "    orfs = []\n",
        "    start_codon = \"ATG\"\n",
        "    stop_codons = [\"TAA\", \"TAG\", \"TGA\"]\n",
        "\n",
        "    for frame in range(3):\n",
        "\n",
        "        i = frame\n",
        "        while i < len(dna_sequence) - 2:\n",
        "            codon = dna_sequence[i:i + 3]\n",
        "\n",
        "            if codon == start_codon:\n",
        "                j = i + 3\n",
        "\n",
        "                while j < len(dna_sequence) - 2:\n",
        "                    codon = dna_sequence[j:j + 3]\n",
        "\n",
        "                    if codon in stop_codons:\n",
        "                        orfs.append(dna_sequence[i:j + 3])\n",
        "                        break\n",
        "\n",
        "                    j += 3\n",
        "\n",
        "            i += 3\n",
        "\n",
        "    return orfs\n",
        "\n",
        "\n",
        "dna_sequence = \"ATGAAATAGTAAATGAGTAA\"\n",
        "\n",
        "orf_list = find_orfs(dna_sequence)\n",
        "\n",
        "for i, orf in enumerate(orf_list, start=1):\n",
        "    print(f\"ORF {i}: {orf}\")\n"
      ],
      "metadata": {
        "colab": {
          "base_uri": "https://localhost:8080/"
        },
        "id": "ZTcjMDybVdxu",
        "outputId": "68e97dae-7237-42a1-9fda-93ef3d435d97"
      },
      "execution_count": 41,
      "outputs": [
        {
          "output_type": "stream",
          "name": "stdout",
          "text": [
            "ORF 1: ATGAAATAG\n"
          ]
        }
      ]
    },
    {
      "cell_type": "code",
      "source": [
        "dna_seq = Seq(text)\n",
        "rna_seq = dna_seq.transcribe()\n",
        "protein = rna_seq.translate()\n",
        "stop = dna_seq.translate(to_stop=True)\n",
        "print(\"RNA Sequence:\", rna_seq)\n",
        "\n",
        "print(\"to Stop Sequence:\", stop)\n",
        "\n",
        "print(\"Protein Sequence:\", protein)"
      ],
      "metadata": {
        "colab": {
          "base_uri": "https://localhost:8080/"
        },
        "id": "fzQUoRv7Vn4K",
        "outputId": "847e0b25-cc01-4bc8-ebfc-db8b45be30c9"
      },
      "execution_count": 42,
      "outputs": [
        {
          "output_type": "stream",
          "name": "stdout",
          "text": [
            "RNA Sequence: AUGCUAGGCUAAGCGUUACCGUAGGACCUAG\n",
            "to Stop Sequence: MLG\n",
            "Protein Sequence: MLG*ALP*DL\n"
          ]
        }
      ]
    },
    {
      "cell_type": "code",
      "source": [
        "with open('/content.drive/MyDrive/Bio/Bio2.txt', 'r') as f:\n",
        "    text = f.read()\n",
        "print(text)"
      ],
      "metadata": {
        "colab": {
          "base_uri": "https://localhost:8080/"
        },
        "id": "wV4abAXDVrGC",
        "outputId": "dfa88e81-9a92-468a-aae1-e9cb1bfbed47"
      },
      "execution_count": 43,
      "outputs": [
        {
          "output_type": "stream",
          "name": "stdout",
          "text": [
            "AUGGCCAUUAAUUGAGAUGGAGGAGAA\n"
          ]
        }
      ]
    },
    {
      "cell_type": "code",
      "source": [
        "rna_seq = Seq(text)\n",
        "protein = rna_seq.translate()\n",
        "stop = rna_seq.translate(to_stop=True)\n",
        "print(\"to Stop Sequence:\", stop)\n",
        "print(\"Protein Sequence:\", protein)"
      ],
      "metadata": {
        "colab": {
          "base_uri": "https://localhost:8080/"
        },
        "id": "WLlxfD3RW_uR",
        "outputId": "326ea6ac-f069-4066-c8d7-c9e796f7b6bc"
      },
      "execution_count": 44,
      "outputs": [
        {
          "output_type": "stream",
          "name": "stdout",
          "text": [
            "to Stop Sequence: MAIN\n",
            "Protein Sequence: MAIN*DGGE\n"
          ]
        }
      ]
    },
    {
      "cell_type": "code",
      "source": [
        "from Bio import Align\n",
        "from Bio.Seq import Seq\n",
        "\n",
        "\n",
        "aligner = Align.PairwiseAligner()\n",
        "aligner.match_score=3.0\n",
        "aligner.mismatch_score=-1.0\n",
        "aligner.gap_score=-2.0\n",
        "aligner.mode=\"local\"\n",
        "dna1 = Seq(\"ATCGATTAGC\")\n",
        "dna2 = Seq(\"AGTCAGTAGC\")\n",
        "score=aligner.score(dna1,dna2)\n",
        "alignments = aligner.align(dna1, dna2)\n",
        "print(\"Match: \",aligner.match_score)\n",
        "print(\"Mismatch: \",aligner.mismatch_score)\n",
        "print(\"Gap: \",aligner.gap_score)\n",
        "print(\"Alignment score: \",score)\n",
        "print(\"Alignment Algorithm: \",aligner.algorithm)\n",
        "for alignment in alignments:\n",
        "\tprint(\"Alignment\",alignment)\n",
        "\n",
        "print(aligner.substitution_matrix)\n"
      ],
      "metadata": {
        "colab": {
          "base_uri": "https://localhost:8080/"
        },
        "id": "FR-q_S3BXH3M",
        "outputId": "9611822f-db5a-404b-f784-5654a19912d5"
      },
      "execution_count": 45,
      "outputs": [
        {
          "output_type": "stream",
          "name": "stdout",
          "text": [
            "Match:  3.0\n",
            "Mismatch:  -1.0\n",
            "Gap:  -2.0\n",
            "Alignment score:  19.0\n",
            "Alignment Algorithm:  Smith-Waterman\n",
            "Alignment target            0 A-TCGATTAGC 10\n",
            "                  0 |-||-|.|||| 11\n",
            "query             0 AGTC-AGTAGC 10\n",
            "\n",
            "None\n"
          ]
        }
      ]
    },
    {
      "cell_type": "code",
      "source": [
        "from Bio.Seq import Seq"
      ],
      "metadata": {
        "id": "pRVO_kmbZd2t"
      },
      "execution_count": 46,
      "outputs": []
    },
    {
      "cell_type": "code",
      "source": [
        "unknown_seq = Seq(None,80)\n",
        "print(len(unknown_seq))\n",
        "a=text.count(\"A\")\n",
        "b=text.count(\"G\")\n",
        "c=text.count(\"C\")\n",
        "d=text.count(\"U\")\n",
        "c=len(text)\n",
        "a1=((a)/80)*100\n",
        "a2=((b)/80)*100\n",
        "a3=((c)/80)*100\n",
        "a4=((d)/80)*100\n",
        "print(\"A in sequence\",a1)\n",
        "print(\"G in sequence\",a2)\n",
        "print(\"C in sequence\",a3)\n",
        "print(\"U in sequence\",a4)"
      ],
      "metadata": {
        "colab": {
          "base_uri": "https://localhost:8080/"
        },
        "id": "1xIvXmcWZYnl",
        "outputId": "acc16616-6fd0-4041-e7bc-0f37907ff3b6"
      },
      "execution_count": 47,
      "outputs": [
        {
          "output_type": "stream",
          "name": "stdout",
          "text": [
            "80\n",
            "A in sequence 12.5\n",
            "G in sequence 11.25\n",
            "C in sequence 33.75\n",
            "U in sequence 7.5\n"
          ]
        }
      ]
    },
    {
      "cell_type": "code",
      "source": [
        "from Bio import pairwise2\n",
        "from Bio.Seq import Seq\n",
        "\n",
        "sequence1 = Seq(\"ACGTGAGA\")\n",
        "sequence2 = Seq(\"TACGAGA\")\n",
        "\n",
        "alignments = pairwise2.align.globalxx(sequence1, sequence2)\n",
        "\n",
        "best_alignment = alignments[0]\n",
        "\n",
        "aligned_seq1 = best_alignment.seqA\n",
        "aligned_seq2 = best_alignment.seqB\n",
        "\n",
        "print(\"Sequence 1:\", aligned_seq1)\n",
        "print(\"Sequence 2:\", aligned_seq2)\n"
      ],
      "metadata": {
        "colab": {
          "base_uri": "https://localhost:8080/"
        },
        "id": "3UUp13uucBj3",
        "outputId": "45d73fa1-b913-4f9b-ea83-e24af6d66d61"
      },
      "execution_count": 48,
      "outputs": [
        {
          "output_type": "stream",
          "name": "stdout",
          "text": [
            "Sequence 1: -ACGTGAGA\n",
            "Sequence 2: TAC--GAGA\n"
          ]
        }
      ]
    },
    {
      "cell_type": "code",
      "source": [
        "from Bio import pairwise2\n",
        "from Bio.Seq import Seq\n",
        "\n",
        "\n",
        "protein_sequence1 = Seq(\"ACTGAGAC\")\n",
        "protein_sequence2 = Seq(\"TACGAGA\")\n",
        "\n",
        "\n",
        "alignments = pairwise2.align.localxx(protein_sequence1, protein_sequence2)\n",
        "\n",
        "\n",
        "best_alignment = max(alignments, key=lambda x: x.score)\n",
        "\n",
        "aligned_seq1 = best_alignment.seqA\n",
        "aligned_seq2 = best_alignment.seqB\n",
        "\n",
        "print(\"Sequence 1:\", aligned_seq1)\n",
        "print(\"Sequence 2:\", aligned_seq2)\n"
      ],
      "metadata": {
        "colab": {
          "base_uri": "https://localhost:8080/"
        },
        "id": "LCGW0fFFcZFF",
        "outputId": "92317bdc-9620-449a-ef6c-1eb7dee20db2"
      },
      "execution_count": 49,
      "outputs": [
        {
          "output_type": "stream",
          "name": "stdout",
          "text": [
            "Sequence 1: -ACTGAGAC\n",
            "Sequence 2: TAC-GAGA-\n"
          ]
        }
      ]
    },
    {
      "cell_type": "code",
      "source": [
        "from Bio import pairwise2\n",
        "from Bio.Seq import Seq\n",
        "\n",
        "sequence1 = Seq(\"ACGTGAGA\")\n",
        "sequence2 = Seq(\"TACGAGA\")\n",
        "\n",
        "\n",
        "alignments = pairwise2.align.localxx(sequence1, sequence2)\n",
        "best1_alignment = max(alignments, key=lambda x: x.score)\n",
        "aligned_seq11 = best1_alignment.seqA\n",
        "aligned_seq21 = best1_alignment.seqB\n",
        "alignment1_score = best1_alignment.score\n",
        "\n",
        "alignments = pairwise2.align.globalxx(sequence1, sequence2)\n",
        "best_alignment = alignments[0]\n",
        "aligned_seq1 = best_alignment.seqA\n",
        "aligned_seq2 = best_alignment.seqB\n",
        "alignment_score = best_alignment.score\n",
        "print(\"Sequence score for local Alignment :\", alignment1_score)\n",
        "print(\"Sequence score for global Alignment :\", alignment_score)\n"
      ],
      "metadata": {
        "colab": {
          "base_uri": "https://localhost:8080/"
        },
        "id": "UB6V71Jjcn8Z",
        "outputId": "a14af3ad-8e28-467c-b375-1f0bf73061d6"
      },
      "execution_count": 50,
      "outputs": [
        {
          "output_type": "stream",
          "name": "stdout",
          "text": [
            "Sequence score for local Alignment : 6.0\n",
            "Sequence score for global Alignment : 6.0\n"
          ]
        }
      ]
    }
  ]
}