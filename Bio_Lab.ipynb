{
  "nbformat": 4,
  "nbformat_minor": 0,
  "metadata": {
    "colab": {
      "provenance": [],
      "authorship_tag": "ABX9TyOzMUlu/NjppL3ZnNraS4V7"
    },
    "kernelspec": {
      "name": "python3",
      "display_name": "Python 3"
    },
    "language_info": {
      "name": "python"
    }
  },
  "cells": [
    {
      "cell_type": "code",
      "execution_count": 5,
      "metadata": {
        "colab": {
          "base_uri": "https://localhost:8080/"
        },
        "id": "qwk5h-SoI5ZB",
        "outputId": "13ddec16-e08d-42f8-98d8-eb74cd1e3614"
      },
      "outputs": [
        {
          "output_type": "stream",
          "name": "stdout",
          "text": [
            "Mounted at /content.drive\n"
          ]
        }
      ],
      "source": [
        "from google.colab import drive\n",
        "import numpy as np\n",
        "import pandas as pd\n",
        "drive.mount('/content.drive')"
      ]
    },
    {
      "cell_type": "code",
      "source": [
        "with open('/content.drive/MyDrive/Bio/Bio.txt', 'r') as f:\n",
        "    text = f.read()\n",
        "print(text)"
      ],
      "metadata": {
        "colab": {
          "base_uri": "https://localhost:8080/"
        },
        "id": "Xx5EgbQYTSmI",
        "outputId": "8e69b178-354d-443e-c652-352943e32c2b"
      },
      "execution_count": 6,
      "outputs": [
        {
          "output_type": "stream",
          "name": "stdout",
          "text": [
            "AUGGCCAUUAAUUGAGAUGGAGGAGAA\n"
          ]
        }
      ]
    },
    {
      "cell_type": "code",
      "source": [
        "print(len(text))"
      ],
      "metadata": {
        "colab": {
          "base_uri": "https://localhost:8080/"
        },
        "id": "xcb3WzbOUImZ",
        "outputId": "d40341f8-1907-4da5-f220-beea3b11d552"
      },
      "execution_count": 7,
      "outputs": [
        {
          "output_type": "stream",
          "name": "stdout",
          "text": [
            "27\n"
          ]
        }
      ]
    },
    {
      "cell_type": "code",
      "source": [
        "!pip install biopython"
      ],
      "metadata": {
        "colab": {
          "base_uri": "https://localhost:8080/"
        },
        "id": "K-_mZ3L-ZJzQ",
        "outputId": "ab9010ad-3c59-4bb0-b13a-b6461b29abef"
      },
      "execution_count": 22,
      "outputs": [
        {
          "output_type": "stream",
          "name": "stdout",
          "text": [
            "Requirement already satisfied: biopython in /usr/local/lib/python3.10/dist-packages (1.81)\n",
            "Requirement already satisfied: numpy in /usr/local/lib/python3.10/dist-packages (from biopython) (1.23.5)\n"
          ]
        }
      ]
    },
    {
      "cell_type": "code",
      "source": [
        "dna_seq = Seq(text)\n",
        "\n",
        "rna_seq = dna_seq.transcribe()\n",
        "\n",
        "print(\"RNA Sequence:\", rna_seq)"
      ],
      "metadata": {
        "colab": {
          "base_uri": "https://localhost:8080/"
        },
        "id": "4AwAmlTsUnha",
        "outputId": "a53fcb3d-bd01-45c7-e9b9-d9dae6f1ca3f"
      },
      "execution_count": 11,
      "outputs": [
        {
          "output_type": "stream",
          "name": "stdout",
          "text": [
            "RNA Sequence: AUGGCCAUUAAUUGAGAUGGAGGAGAA\n"
          ]
        }
      ]
    },
    {
      "cell_type": "code",
      "source": [
        "dna_seq = Seq(text)\n",
        "rc = dna_seq.reverse_complement()\n",
        "print(\"reverse complement Sequence:\", rc)\n"
      ],
      "metadata": {
        "colab": {
          "base_uri": "https://localhost:8080/"
        },
        "id": "Br6HKnYlUuCN",
        "outputId": "87345401-35c2-4b4b-bf4e-2200f2cb13fe"
      },
      "execution_count": 12,
      "outputs": [
        {
          "output_type": "stream",
          "name": "stdout",
          "text": [
            "reverse complement Sequence: UUCUCCUCCAUCUCAAUUAAUGGCCAU\n"
          ]
        }
      ]
    },
    {
      "cell_type": "code",
      "source": [
        "print(\"A in sequence\",text.count(\"A\"))\n",
        "print(\"T in sequence\",text.count(\"T\"))\n",
        "print(\"C in sequence\",text.count(\"C\"))\n",
        "print(\"G in sequence\",text.count(\"G\"))"
      ],
      "metadata": {
        "colab": {
          "base_uri": "https://localhost:8080/"
        },
        "id": "5TdM2usaVCQn",
        "outputId": "37ed03ba-0bb2-4f9c-cdb3-f15f54b5ef25"
      },
      "execution_count": 13,
      "outputs": [
        {
          "output_type": "stream",
          "name": "stdout",
          "text": [
            "A in sequence 10\n",
            "T in sequence 0\n",
            "C in sequence 2\n",
            "G in sequence 9\n"
          ]
        }
      ]
    },
    {
      "cell_type": "code",
      "source": [
        "a=text.count(\"C\")\n",
        "b=text.count(\"G\")\n",
        "c=len(text)\n",
        "d=((a+b)/c)*100\n",
        "print(\"GC in sequence\",d)"
      ],
      "metadata": {
        "colab": {
          "base_uri": "https://localhost:8080/"
        },
        "id": "nDBTyfLHVVi2",
        "outputId": "67a2218b-700f-4aed-d883-f205ed948752"
      },
      "execution_count": 14,
      "outputs": [
        {
          "output_type": "stream",
          "name": "stdout",
          "text": [
            "GC in sequence 40.74074074074074\n"
          ]
        }
      ]
    },
    {
      "cell_type": "code",
      "source": [
        "dna_seq = Seq(text)\n",
        "rna_seq = dna_seq.transcribe()\n",
        "protein = rna_seq.translate()\n",
        "print(\"RNA Sequence:\", rna_seq)\n",
        "print(\"Protein Sequence:\", protein)"
      ],
      "metadata": {
        "colab": {
          "base_uri": "https://localhost:8080/"
        },
        "id": "wAt8HU12VZk0",
        "outputId": "53450a25-ca9b-4dd2-b0ae-70e9011ee746"
      },
      "execution_count": 15,
      "outputs": [
        {
          "output_type": "stream",
          "name": "stdout",
          "text": [
            "RNA Sequence: AUGGCCAUUAAUUGAGAUGGAGGAGAA\n",
            "Protein Sequence: MAIN*DGGE\n"
          ]
        }
      ]
    },
    {
      "cell_type": "code",
      "source": [
        "def find_orfs(dna_sequence):\n",
        "    orfs = []\n",
        "    start_codon = \"ATG\"\n",
        "    stop_codons = [\"TAA\", \"TAG\", \"TGA\"]\n",
        "\n",
        "    for frame in range(3):\n",
        "\n",
        "        i = frame\n",
        "        while i < len(dna_sequence) - 2:\n",
        "            codon = dna_sequence[i:i + 3]\n",
        "\n",
        "            if codon == start_codon:\n",
        "                j = i + 3\n",
        "\n",
        "                while j < len(dna_sequence) - 2:\n",
        "                    codon = dna_sequence[j:j + 3]\n",
        "\n",
        "                    if codon in stop_codons:\n",
        "                        orfs.append(dna_sequence[i:j + 3])\n",
        "                        break\n",
        "\n",
        "                    j += 3\n",
        "\n",
        "            i += 3\n",
        "\n",
        "    return orfs\n",
        "\n",
        "\n",
        "dna_sequence = \"ATGAAATAGTAAATGAGTAA\"\n",
        "\n",
        "orf_list = find_orfs(dna_sequence)\n",
        "\n",
        "for i, orf in enumerate(orf_list, start=1):\n",
        "    print(f\"ORF {i}: {orf}\")\n"
      ],
      "metadata": {
        "colab": {
          "base_uri": "https://localhost:8080/"
        },
        "id": "ZTcjMDybVdxu",
        "outputId": "e5dbfdde-92b8-4a4c-c85d-2ca328426f98"
      },
      "execution_count": 20,
      "outputs": [
        {
          "output_type": "stream",
          "name": "stdout",
          "text": [
            "ORF 1: ATGAAATAG\n"
          ]
        }
      ]
    },
    {
      "cell_type": "code",
      "source": [
        "dna_seq = Seq(text)\n",
        "rna_seq = dna_seq.transcribe()\n",
        "protein = rna_seq.translate()\n",
        "stop = dna_seq.translate(to_stop=True)\n",
        "print(\"RNA Sequence:\", rna_seq)\n",
        "\n",
        "print(\"to Stop Sequence:\", stop)\n",
        "\n",
        "print(\"Protein Sequence:\", protein)"
      ],
      "metadata": {
        "colab": {
          "base_uri": "https://localhost:8080/"
        },
        "id": "fzQUoRv7Vn4K",
        "outputId": "22590a3e-cd3e-4f83-8280-e0bab98d12ed"
      },
      "execution_count": 17,
      "outputs": [
        {
          "output_type": "stream",
          "name": "stdout",
          "text": [
            "RNA Sequence: AUGGCCAUUAAUUGAGAUGGAGGAGAA\n",
            "to Stop Sequence: MAIN\n",
            "Protein Sequence: MAIN*DGGE\n"
          ]
        }
      ]
    },
    {
      "cell_type": "code",
      "source": [
        "with open('/content.drive/MyDrive/Bio/Bio2.txt', 'r') as f:\n",
        "    text = f.read()\n",
        "print(text)"
      ],
      "metadata": {
        "colab": {
          "base_uri": "https://localhost:8080/"
        },
        "id": "wV4abAXDVrGC",
        "outputId": "c5de6107-72da-4375-8684-f294a1113c77"
      },
      "execution_count": 18,
      "outputs": [
        {
          "output_type": "stream",
          "name": "stdout",
          "text": [
            "AUGGCCAUUAAUUGAGAUGGAGGAGAA\n"
          ]
        }
      ]
    },
    {
      "cell_type": "code",
      "source": [
        "rna_seq = Seq(text)\n",
        "protein = rna_seq.translate()\n",
        "stop = rna_seq.translate(to_stop=True)\n",
        "print(\"to Stop Sequence:\", stop)\n",
        "print(\"Protein Sequence:\", protein)"
      ],
      "metadata": {
        "colab": {
          "base_uri": "https://localhost:8080/"
        },
        "id": "WLlxfD3RW_uR",
        "outputId": "25ee860a-8b92-440e-917a-e5fd9a932bf8"
      },
      "execution_count": 19,
      "outputs": [
        {
          "output_type": "stream",
          "name": "stdout",
          "text": [
            "to Stop Sequence: MAIN\n",
            "Protein Sequence: MAIN*DGGE\n"
          ]
        }
      ]
    },
    {
      "cell_type": "code",
      "source": [
        "from Bio import Align\n",
        "from Bio.Seq import Seq\n",
        "\n",
        "\n",
        "aligner = Align.PairwiseAligner()\n",
        "aligner.match_score=3.0\n",
        "aligner.mismatch_score=-1.0\n",
        "aligner.gap_score=-2.0\n",
        "aligner.mode=\"local\"\n",
        "dna1 = Seq(\"ATCGATTAGC\")\n",
        "dna2 = Seq(\"AGTCAGTAGC\")\n",
        "score=aligner.score(dna1,dna2)\n",
        "alignments = aligner.align(dna1, dna2)\n",
        "print(\"Match: \",aligner.match_score)\n",
        "print(\"Mismatch: \",aligner.mismatch_score)\n",
        "print(\"Gap: \",aligner.gap_score)\n",
        "print(\"Alignment score: \",score)\n",
        "print(\"Alignment Algorithm: \",aligner.algorithm)\n",
        "for alignment in alignments:\n",
        "\tprint(\"Alignment\",alignment)\n",
        "\n",
        "print(aligner.substitution_matrix)\n"
      ],
      "metadata": {
        "colab": {
          "base_uri": "https://localhost:8080/"
        },
        "id": "FR-q_S3BXH3M",
        "outputId": "83d59092-3358-4467-f43d-6bc9a91900d5"
      },
      "execution_count": 21,
      "outputs": [
        {
          "output_type": "stream",
          "name": "stdout",
          "text": [
            "Match:  3.0\n",
            "Mismatch:  -1.0\n",
            "Gap:  -2.0\n",
            "Alignment score:  19.0\n",
            "Alignment Algorithm:  Smith-Waterman\n",
            "Alignment target            0 A-TCGATTAGC 10\n",
            "                  0 |-||-|.|||| 11\n",
            "query             0 AGTC-AGTAGC 10\n",
            "\n",
            "None\n"
          ]
        }
      ]
    },
    {
      "cell_type": "code",
      "source": [
        "from Bio.Seq import Seq"
      ],
      "metadata": {
        "id": "pRVO_kmbZd2t"
      },
      "execution_count": 24,
      "outputs": []
    },
    {
      "cell_type": "code",
      "source": [
        "unknown_seq = Seq(None,80)\n",
        "print(len(unknown_seq))\n",
        "a=text.count(\"A\")\n",
        "b=text.count(\"G\")\n",
        "c=text.count(\"C\")\n",
        "d=text.count(\"U\")\n",
        "c=len(text)\n",
        "a1=((a)/80)*100\n",
        "a2=((b)/80)*100\n",
        "a3=((c)/80)*100\n",
        "a4=((d)/80)*100\n",
        "print(\"A in sequence\",a1)\n",
        "print(\"G in sequence\",a2)\n",
        "print(\"C in sequence\",a3)\n",
        "print(\"U in sequence\",a4)"
      ],
      "metadata": {
        "colab": {
          "base_uri": "https://localhost:8080/"
        },
        "id": "1xIvXmcWZYnl",
        "outputId": "68aedf0a-ed4d-473e-8c6d-69b18acca70e"
      },
      "execution_count": 25,
      "outputs": [
        {
          "output_type": "stream",
          "name": "stdout",
          "text": [
            "80\n",
            "A in sequence 12.5\n",
            "G in sequence 11.25\n",
            "C in sequence 33.75\n",
            "U in sequence 7.5\n"
          ]
        }
      ]
    }
  ]
}