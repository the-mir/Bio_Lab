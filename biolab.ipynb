{
  "nbformat": 4,
  "nbformat_minor": 0,
  "metadata": {
    "colab": {
      "provenance": [],
      "authorship_tag": "ABX9TyNFwaSYtqBYUrQLOS4rWra7",
      "include_colab_link": true
    },
    "kernelspec": {
      "name": "python3",
      "display_name": "Python 3"
    },
    "language_info": {
      "name": "python"
    }
  },
  "cells": [
    {
      "cell_type": "markdown",
      "metadata": {
        "id": "view-in-github",
        "colab_type": "text"
      },
      "source": [
        "<a href=\"https://colab.research.google.com/github/the-mir/Bio_Lab/blob/main/biolab.ipynb\" target=\"_parent\"><img src=\"https://colab.research.google.com/assets/colab-badge.svg\" alt=\"Open In Colab\"/></a>"
      ]
    },
    {
      "cell_type": "code",
      "execution_count": null,
      "metadata": {
        "colab": {
          "base_uri": "https://localhost:8080/"
        },
        "id": "MCRztJLeDmlJ",
        "outputId": "b0f387a4-e361-462f-e5ac-459474cce48b"
      },
      "outputs": [
        {
          "output_type": "stream",
          "name": "stdout",
          "text": [
            "Requirement already satisfied: biopython in /usr/local/lib/python3.10/dist-packages (1.81)\n",
            "Requirement already satisfied: numpy in /usr/local/lib/python3.10/dist-packages (from biopython) (1.23.5)\n"
          ]
        }
      ],
      "source": [
        "pip install biopython"
      ]
    },
    {
      "cell_type": "code",
      "source": [
        "pip install biopython --upgrade"
      ],
      "metadata": {
        "colab": {
          "base_uri": "https://localhost:8080/"
        },
        "id": "XbB7_2zJEmik",
        "outputId": "5050ab61-6f02-4a09-c675-fc8a95dab208"
      },
      "execution_count": null,
      "outputs": [
        {
          "output_type": "stream",
          "name": "stdout",
          "text": [
            "Requirement already satisfied: biopython in /usr/local/lib/python3.10/dist-packages (1.81)\n",
            "Requirement already satisfied: numpy in /usr/local/lib/python3.10/dist-packages (from biopython) (1.23.5)\n"
          ]
        }
      ]
    },
    {
      "cell_type": "code",
      "source": [
        "from Bio import Align\n",
        "import pylab\n",
        "from Bio.Seq import Seq"
      ],
      "metadata": {
        "id": "Yrq-kYkzExly"
      },
      "execution_count": null,
      "outputs": []
    },
    {
      "cell_type": "code",
      "source": [
        "from ctypes import alignment\n",
        "alinger = Align.PairwiseAligner()\n",
        "alinger.match_score = 2.0\n",
        "alinger.mismatch_score = -2.0\n",
        "alinger.gap_score = -3.0\n",
        "alinger.mode = \"global\"\n",
        "\n",
        "s1=input('S1 = ')\n",
        "s2=input('S2 = ')\n",
        "\n",
        "score = alinger.score(s1,s2)\n",
        "alignments = alinger.align(s1,s2)\n",
        "\n",
        "print(\"Match Score: \",alinger.match_score)\n",
        "print(\"mismatch_score : \",alinger.mismatch_score)\n",
        "print(\"gap_score : \",alinger.gap_score)\n",
        "print(\"score : \",score)\n",
        "print(\"algorithm : \",alinger.algorithm)\n",
        "\n",
        "\n",
        "for alignment in alignments:\n",
        "  print(\"alignment\")\n",
        "  print(alignment)\n"
      ],
      "metadata": {
        "colab": {
          "base_uri": "https://localhost:8080/"
        },
        "id": "RECu4cO2F4vv",
        "outputId": "459f370d-335e-4cf5-d100-7234c652b6f5"
      },
      "execution_count": null,
      "outputs": [
        {
          "output_type": "stream",
          "name": "stdout",
          "text": [
            "S1 = AATCC\n",
            "S2 = ATTC\n",
            "Match Score:  2.0\n",
            "mismatch_score :  -2.0\n",
            "gap_score :  -3.0\n",
            "score :  1.0\n",
            "algorithm :  Needleman-Wunsch\n",
            "alignment\n",
            "target            0 AATCC 5\n",
            "                  0 |.||- 5\n",
            "query             0 ATTC- 4\n",
            "\n",
            "alignment\n",
            "target            0 AATCC 5\n",
            "                  0 |.|-| 5\n",
            "query             0 ATT-C 4\n",
            "\n",
            "alignment\n",
            "target            0 AATCC 5\n",
            "                  0 |-|.| 5\n",
            "query             0 A-TTC 4\n",
            "\n",
            "alignment\n",
            "target            0 AATCC 5\n",
            "                  0 -||.| 5\n",
            "query             0 -ATTC 4\n",
            "\n"
          ]
        }
      ]
    }
  ]
}